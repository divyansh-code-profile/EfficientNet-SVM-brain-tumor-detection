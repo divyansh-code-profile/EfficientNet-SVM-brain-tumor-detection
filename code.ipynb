{
  "cells": [
    {
      "cell_type": "code",
      "execution_count": null,
      "id": "3323a488",
      "metadata": {
        "id": "3323a488"
      },
      "outputs": [],
      "source": [
        "from pathlib import Path\n",
        "import numpy as np\n",
        "import pandas as pd\n",
        "import seaborn as sns\n",
        "from sklearn import *\n",
        "from sklearn.metrics import classification_report,plot_confusion_matrix,confusion_matrix,ConfusionMatrixDisplay,roc_curve,RocCurveDisplay,precision_recall_curve,PrecisionRecallDisplay\n",
        "\n",
        "import matplotlib.pyplot as plt\n",
        "from mpl_toolkits.axes_grid1 import ImageGrid\n",
        "from sklearn.utils import shuffle\n",
        "import cv2\n",
        "from tensorflow import keras\n",
        "from tensorflow.keras import layers\n",
        "from tensorflow.keras.preprocessing import image\n",
        "from tensorflow.keras.applications import EfficientNetB3\n",
        "import tensorflow as tf\n",
        "from tensorflow.keras.callbacks import EarlyStopping, ReduceLROnPlateau, TensorBoard, ModelCheckpoint\n",
        "from tensorflow.keras.utils import to_categorical"
      ]
    },
    {
      "cell_type": "markdown",
      "id": "65d3e294",
      "metadata": {
        "id": "65d3e294"
      },
      "source": [
        "__<h2>class for data preprocessing and network</h2>__"
      ]
    },
    {
      "cell_type": "code",
      "execution_count": null,
      "id": "08994a1d",
      "metadata": {
        "id": "08994a1d"
      },
      "outputs": [],
      "source": [
        "class main_class():\n",
        "    def __init__(self,path_add):\n",
        "        self.path_add=path_add\n",
        "\n",
        "    def data_frame(self):\n",
        "        images_link = list(self.path_add.glob(r'**/*.*'))\n",
        "        images_name = [x.parents[0].stem for x in images_link]\n",
        "        images_labels=preprocessing.LabelEncoder().fit_transform(images_name)\n",
        "\n",
        "        df=pd.DataFrame(list(zip(images_link,images_name,images_labels)),columns=['Link','Name','label'])\n",
        "        return df\n",
        "\n",
        "    def img_show(self,image_links,plot_size,):\n",
        "        df=image_links.sample(frac=1)\n",
        "        fig = plt.figure(1, figsize=(30, 30))\n",
        "        grid = ImageGrid(fig,121, nrows_ncols=(plot_size, 2), axes_pad=0.10)\n",
        "        i = 0\n",
        "        for category_id, category in enumerate(df.Name.unique()):\n",
        "            for filepath in df[df['Name'] == category]['Link'].values[:2]:\n",
        "                ax = grid[i]\n",
        "                #img = image.load_img(filepath,(150,150))\n",
        "                #img=image.img_to_array(img)\n",
        "                #ax.imshow(img/255)\n",
        "\n",
        "\n",
        "                image = Image.open(filepath).convert(\"L\")\n",
        "                arr = np.asarray(image)\n",
        "                ax.imshow(arr, cmap='gray', vmin=0, vmax=255)\n",
        "                ax.axis('off')\n",
        "\n",
        "                if i % 2 == 2 - 1:\n",
        "                    ax.text(600, 200, category, verticalalignment='center',fontsize=20,color = 'red')\n",
        "\n",
        "\n",
        "                i+=1\n",
        "\n",
        "        plt.show()\n",
        "\n",
        "    def EfficientNet_call(self,df,EfficientNet,imsize,epoch,batch):\n",
        "        image_data=[]\n",
        "        for i in df.Link:\n",
        "            img_pre=cv2.imread(str(i))\n",
        "            img_pre=cv2.resize(img_pre, (imsize,imsize))\n",
        "            image_data.append(img_pre)\n",
        "\n",
        "        x=np.array(image_data)\n",
        "        y=to_categorical(df.label)\n",
        "        x_data, y_data=shuffle(x,y,random_state=42)\n",
        "        xtrain,xtest,ytrain,ytest=model_selection.train_test_split(x_data, y_data, test_size=0.1, random_state=42)\n",
        "\n",
        "        efficient = EfficientNet(weights='imagenet',include_top = False, input_shape=(imsize, imsize, 3))\n",
        "\n",
        "        model = efficient.output\n",
        "        model = tf.keras.layers.GlobalAveragePooling2D()(model)\n",
        "        model = tf.keras.layers.Dropout(0.5)(model)\n",
        "        model = tf.keras.layers.Dense(4, kernel_regularizer=tf.keras.regularizers.l2(0.01),activation\n",
        "             ='softmax')(model)\n",
        "        model = tf.keras.models.Model(inputs = efficient.input , outputs = model)\n",
        "        model.compile(loss = 'squared_hinge',\n",
        "                      optimizer = \"adam\",\n",
        "                      metrics=[\"accuracy\"]\n",
        "                      )\n",
        "        model.summary()\n",
        "\n",
        "\n",
        "\n",
        "        tensorboard = TensorBoard(log_dir=\"logs\")\n",
        "        checkpoint = ModelCheckpoint(\"efficient.h5\",\n",
        "                                     monitor='val_accuracy',\n",
        "                                     mode = \"auto\",\n",
        "                                     verbose = 1,\n",
        "                                     save_best_only =True)\n",
        "        reduce_LR = ReduceLROnPlateau(monitor=\"val_accuracy\",\n",
        "                                      factor = 0.3,\n",
        "                                      patience = 2,\n",
        "                                      min_delta=0.001,\n",
        "                                      mode = \"auto\",\n",
        "                                      verbose = 1)\n",
        "        es = EarlyStopping(monitor='val_loss', mode='min', verbose=1, patience=5)\n",
        "        history = model.fit(xtrain, ytrain,\n",
        "                  validation_data =(xtest,ytest),\n",
        "                  epochs = epoch,\n",
        "                  verbose =1,\n",
        "                  batch_size = batch,\n",
        "                  callbacks = [tensorboard, checkpoint, reduce_LR,es])\n",
        "\n",
        "        return model,xtrain,xtest,ytrain,ytest,history\n"
      ]
    },
    {
      "cell_type": "markdown",
      "id": "41144cfa",
      "metadata": {
        "id": "41144cfa"
      },
      "source": [
        "__<h2>for data frame</h2>__"
      ]
    },
    {
      "cell_type": "code",
      "execution_count": null,
      "id": "zxReYuRyfEJg",
      "metadata": {
        "id": "zxReYuRyfEJg"
      },
      "outputs": [],
      "source": [
        "from google.colab import drive\n",
        "drive.mount('/content/drive')"
      ]
    },
    {
      "cell_type": "code",
      "execution_count": null,
      "id": "2YEPTZj4fJJR",
      "metadata": {
        "id": "2YEPTZj4fJJR"
      },
      "outputs": [],
      "source": [
        "!cp /content/drive/MyDrive/brain_tumor/archive.zip /content/\n"
      ]
    },
    {
      "cell_type": "code",
      "execution_count": null,
      "id": "mwzvQEN7fRjw",
      "metadata": {
        "colab": {
          "base_uri": "https://localhost:8080/"
        },
        "id": "mwzvQEN7fRjw",
        "outputId": "9d0db748-14a4-497e-ecba-66bce82817e1"
      },
      "outputs": [],
      "source": [
        "!unzip /content/archive.zip"
      ]
    },
    {
      "cell_type": "code",
      "execution_count": null,
      "id": "CDQ0SJkR8Czu",
      "metadata": {
        "id": "CDQ0SJkR8Czu"
      },
      "outputs": [],
      "source": [
        "!cp -r /content/Testing /content/dataset/Testing/\n",
        "!cp -r /content/Training /content/dataset/Training/"
      ]
    },
    {
      "cell_type": "code",
      "execution_count": null,
      "id": "9dac7cbd",
      "metadata": {
        "id": "9dac7cbd"
      },
      "outputs": [],
      "source": [
        "dataset_path = Path(\"/content/\", \"dataset\")\n",
        "data_info=main_class(dataset_path)\n",
        "df=data_info.data_frame()"
      ]
    },
    {
      "cell_type": "code",
      "execution_count": null,
      "id": "jpr0Kp5eJXJj",
      "metadata": {
        "colab": {
          "base_uri": "https://localhost:8080/"
        },
        "id": "jpr0Kp5eJXJj",
        "outputId": "6b417da0-c257-452e-e2ee-d78770f1b82f"
      },
      "outputs": [],
      "source": [
        "print(df)"
      ]
    },
    {
      "cell_type": "markdown",
      "id": "1cb50923",
      "metadata": {
        "id": "1cb50923"
      },
      "source": [
        "__<h2>random image plot</h2>__"
      ]
    },
    {
      "cell_type": "code",
      "execution_count": null,
      "id": "1e3a9af8",
      "metadata": {
        "colab": {
          "base_uri": "https://localhost:8080/",
          "height": 405
        },
        "id": "1e3a9af8",
        "outputId": "3601bade-ef5c-4ec8-9e8b-6e979ea74fbb"
      },
      "outputs": [],
      "source": [
        "from PIL import Image\n",
        "name_image=np.random.choice(np.unique(df.Name))\n",
        "data_info.img_show(df[df.Name==name_image],2)"
      ]
    },
    {
      "cell_type": "markdown",
      "id": "c476788c",
      "metadata": {
        "id": "c476788c"
      },
      "source": [
        "__<h2>model fit</h2>__"
      ]
    },
    {
      "cell_type": "code",
      "execution_count": null,
      "id": "a171225f",
      "metadata": {
        "colab": {
          "base_uri": "https://localhost:8080/",
          "height": 1000
        },
        "id": "a171225f",
        "outputId": "fcf5477e-e0bf-4227-876e-631c82dbbe78"
      },
      "outputs": [],
      "source": [
        "main_dt=data_info.EfficientNet_call(df,EfficientNetB3,224,20,32)"
      ]
    },
    {
      "cell_type": "markdown",
      "id": "d9160af8",
      "metadata": {
        "id": "d9160af8"
      },
      "source": [
        "__<h1>predict test image plot</h1>"
      ]
    },
    {
      "cell_type": "code",
      "execution_count": null,
      "id": "f74beb0b",
      "metadata": {
        "colab": {
          "base_uri": "https://localhost:8080/",
          "height": 908
        },
        "id": "f74beb0b",
        "outputId": "8b243c08-c7c4-4846-ff55-3d54cb19bfcc"
      },
      "outputs": [],
      "source": [
        "result_pre = np.argmax(main_dt[0].predict(main_dt[2]), axis=1)\n",
        "result_acc = np.argmax(main_dt[4], axis=1)\n",
        "\n",
        "plt.figure(figsize=(20, 20))\n",
        "for i in range(16):\n",
        "    ax = plt.subplot(4, 4, i + 1)\n",
        "    plt.imshow(main_dt[2][i])\n",
        "    plt.title('glioma' if result_pre[i]==0\n",
        "                else 'meningioma' if result_pre[i]==1\n",
        "                else 'notumor' if result_pre[i]==2\n",
        "                else 'pituitary',fontsize=20)\n",
        "    plt.suptitle('Test Image plot and labels',fontsize=30)\n",
        "    plt.axis(\"off\")\n",
        "\n",
        "plt.show()"
      ]
    },
    {
      "cell_type": "markdown",
      "id": "bd141b23",
      "metadata": {
        "id": "bd141b23"
      },
      "source": [
        "__<h2>confusion_matrix plot</h2>__"
      ]
    },
    {
      "cell_type": "code",
      "execution_count": null,
      "id": "c259f057",
      "metadata": {
        "colab": {
          "base_uri": "https://localhost:8080/",
          "height": 1000
        },
        "id": "c259f057",
        "outputId": "3f7cdeec-5e87-4fa0-e211-8ffca9457cfa"
      },
      "outputs": [],
      "source": [
        "con_max = confusion_matrix(result_acc,result_pre)\n",
        "cm = confusion_matrix(result_acc,result_pre)\n",
        "cmp = ConfusionMatrixDisplay(cm,display_labels = ['glioma', 'meningioma','notumor', 'pituitary'])\n",
        "fig, ax = plt.subplots(figsize=(20,120))\n",
        "cmp.plot(ax=ax, xticks_rotation=90)"
      ]
    },
    {
      "cell_type": "markdown",
      "id": "2fa03bb2",
      "metadata": {
        "id": "2fa03bb2"
      },
      "source": [
        "__<h2>classification_report</h2>__"
      ]
    },
    {
      "cell_type": "code",
      "execution_count": null,
      "id": "a9fe1b00",
      "metadata": {
        "colab": {
          "base_uri": "https://localhost:8080/"
        },
        "id": "a9fe1b00",
        "outputId": "099f71a5-0a20-4c08-d2c9-1c29c428c77d"
      },
      "outputs": [],
      "source": [
        "print(classification_report(result_acc,result_pre,target_names=['glioma', 'meningioma','notumor', 'pituitary']))"
      ]
    },
    {
      "cell_type": "markdown",
      "id": "542c3e05",
      "metadata": {
        "id": "542c3e05"
      },
      "source": [
        "__<h2>model accuracy,loss data frame with epoch </h2>__"
      ]
    },
    {
      "cell_type": "code",
      "execution_count": null,
      "id": "84493be9",
      "metadata": {
        "colab": {
          "base_uri": "https://localhost:8080/",
          "height": 676
        },
        "id": "84493be9",
        "outputId": "dd32b046-54fd-40ce-d64a-7123926087ae"
      },
      "outputs": [],
      "source": [
        "df_acc=pd.DataFrame()\n",
        "df_acc['Loss']=main_dt[5].history['loss']\n",
        "df_acc['Value Loss']=main_dt[5].history['val_loss']\n",
        "df_acc['Accuracy']=main_dt[5].history['accuracy']\n",
        "df_acc['Value Accuracy']=main_dt[5].history['val_accuracy']\n",
        "df_acc"
      ]
    },
    {
      "cell_type": "markdown",
      "id": "26abda0b",
      "metadata": {
        "id": "26abda0b"
      },
      "source": [
        "__<h2>Top accuracy</h2>__"
      ]
    },
    {
      "cell_type": "code",
      "execution_count": null,
      "id": "7a5235a8",
      "metadata": {
        "colab": {
          "base_uri": "https://localhost:8080/",
          "height": 498
        },
        "id": "7a5235a8",
        "outputId": "c3a3f265-d5ce-4f9f-a14f-3dc0ea0c322d"
      },
      "outputs": [],
      "source": [
        "df_acc.sort_values('Loss',ascending=False).head(1).plot(kind='bar',figsize = (12,8))"
      ]
    },
    {
      "cell_type": "markdown",
      "id": "0a2c71e2",
      "metadata": {
        "id": "0a2c71e2"
      },
      "source": [
        "__<h2>Loss,Accuracy polt</h2>__"
      ]
    },
    {
      "cell_type": "code",
      "execution_count": null,
      "id": "59597df7",
      "metadata": {
        "colab": {
          "base_uri": "https://localhost:8080/",
          "height": 573
        },
        "id": "59597df7",
        "outputId": "e33bd58e-5366-4ad9-f722-02f975cdb6a2"
      },
      "outputs": [],
      "source": [
        "# summarize history for accuracy\n",
        "plt.plot(main_dt[5].history['accuracy'])\n",
        "plt.plot(main_dt[5].history['val_accuracy'])\n",
        "plt.title('model accuracy')\n",
        "plt.ylabel('accuracy')\n",
        "plt.xlabel('epoch')\n",
        "plt.legend(['train', 'test'], loc='upper left')\n",
        "plt.show()\n",
        "# summarize history for loss\n",
        "plt.plot(main_dt[5].history['loss'])\n",
        "plt.plot(main_dt[5].history['val_loss'])\n",
        "plt.title('model loss')\n",
        "plt.ylabel('loss')\n",
        "plt.xlabel('epoch')\n",
        "plt.legend(['train', 'test'], loc='upper left')\n",
        "plt.show()"
      ]
    }
  ],
  "metadata": {
    "accelerator": "GPU",
    "colab": {
      "provenance": []
    },
    "gpuClass": "standard",
    "kernelspec": {
      "display_name": "Python 3",
      "language": "python",
      "name": "python3"
    },
    "language_info": {
      "codemirror_mode": {
        "name": "ipython",
        "version": 3
      },
      "file_extension": ".py",
      "mimetype": "text/x-python",
      "name": "python",
      "nbconvert_exporter": "python",
      "pygments_lexer": "ipython3",
      "version": "3.7.12"
    },
    "papermill": {
      "default_parameters": {},
      "duration": 5734.689596,
      "end_time": "2022-10-02T17:49:33.603122",
      "environment_variables": {},
      "exception": null,
      "input_path": "__notebook__.ipynb",
      "output_path": "__notebook__.ipynb",
      "parameters": {},
      "start_time": "2022-10-02T16:13:58.913526",
      "version": "2.3.4"
    }
  },
  "nbformat": 4,
  "nbformat_minor": 5
}
